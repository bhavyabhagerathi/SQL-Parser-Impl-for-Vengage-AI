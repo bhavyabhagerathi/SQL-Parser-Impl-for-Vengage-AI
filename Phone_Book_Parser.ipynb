{
 "cells": [
  {
   "cell_type": "markdown",
   "id": "c4ddc986",
   "metadata": {},
   "source": [
    "**BACKEND CODE IMPLEMENTATION FOR PROBLEM STATEMENTS GIVEN BY VENGAGE.AI**"
   ]
  },
  {
   "cell_type": "markdown",
   "id": "a3ec727b",
   "metadata": {},
   "source": [
    "**Importing Liraries**"
   ]
  },
  {
   "cell_type": "code",
   "execution_count": 218,
   "id": "5d57a140",
   "metadata": {},
   "outputs": [],
   "source": [
    "import pandas as pd\n",
    "from faker import Faker\n",
    "from prettytable import PrettyTable\n",
    "import csv"
   ]
  },
  {
   "cell_type": "markdown",
   "id": "6c540378",
   "metadata": {},
   "source": [
    "**Generation of Data**"
   ]
  },
  {
   "cell_type": "code",
   "execution_count": 219,
   "id": "a79a0c3c",
   "metadata": {},
   "outputs": [],
   "source": [
    "fake = Faker()"
   ]
  },
  {
   "cell_type": "code",
   "execution_count": 220,
   "id": "e0a2fe5b",
   "metadata": {},
   "outputs": [],
   "source": [
    "data = {\n",
    "    'Name': [fake.name() for _ in range(100)],\n",
    "    'email': [fake.email() for _ in range(100)],\n",
    "    'Phone 1': [fake.phone_number() for _ in range(100)],\n",
    "    'Phone 2': [fake.phone_number() for _ in range(100)],\n",
    "}"
   ]
  },
  {
   "cell_type": "markdown",
   "id": "ec2371a2",
   "metadata": {},
   "source": [
    "**Conversion of data into DataFrame**"
   ]
  },
  {
   "cell_type": "code",
   "execution_count": 221,
   "id": "f91048fd",
   "metadata": {},
   "outputs": [],
   "source": [
    "df = pd.DataFrame(data)\n",
    "df.to_csv('phone_book.csv', index=False)"
   ]
  },
  {
   "cell_type": "code",
   "execution_count": null,
   "id": "8969580e",
   "metadata": {},
   "outputs": [],
   "source": [
    "df.info()"
   ]
  },
  {
   "cell_type": "markdown",
   "id": "7c205ccc",
   "metadata": {},
   "source": [
    "**Creation of PhoneBook**"
   ]
  },
  {
   "cell_type": "code",
   "execution_count": 319,
   "id": "878fa6a0",
   "metadata": {},
   "outputs": [],
   "source": [
    "class PhoneBook:\n",
    "    def __init__(self, records):\n",
    "        self.records = records\n",
    "\n",
    "    def select_all(self, limit=10):\n",
    "        return self.records[:limit]\n",
    "    \n",
    "    def add_record(self, name, email, phone1, phone2):\n",
    "        new_record = {\n",
    "            'Name': name,\n",
    "            'email': email,\n",
    "            'Phone 1': phone1,\n",
    "            'Phone 2': phone2\n",
    "        }\n",
    "\n",
    "        self.records.append(new_record)\n",
    "        return new_record\n",
    "\n",
    "    def remove_records(self, column_name, value):\n",
    "        deleted_records = [record for record in self.records if record.get(column_name) == value]\n",
    "\n",
    "        self.records = [record for record in self.records if record.get(column_name) != value]\n",
    "\n",
    "        return deleted_records"
   ]
  },
  {
   "cell_type": "markdown",
   "id": "2dd1311f",
   "metadata": {},
   "source": [
    "**Function for reading records from csv file**"
   ]
  },
  {
   "cell_type": "code",
   "execution_count": 320,
   "id": "501f7e2f",
   "metadata": {},
   "outputs": [],
   "source": [
    "def read_records_from_csv(file_name):\n",
    "    file_path = f'./{file_name}'  \n",
    "    records = []\n",
    "    with open(file_path, 'r') as file:\n",
    "        reader = csv.DictReader(file)\n",
    "        for row in reader:\n",
    "            records.append(row)\n",
    "    return records"
   ]
  },
  {
   "cell_type": "markdown",
   "id": "15fffcd4",
   "metadata": {},
   "source": [
    "**2.1 Parser for SELECT ALL statement**"
   ]
  },
  {
   "cell_type": "code",
   "execution_count": 330,
   "id": "d96bdef0",
   "metadata": {},
   "outputs": [],
   "source": [
    "def parse_sql(statement):\n",
    "    tokens = statement.split()\n",
    "    if len(tokens) >= 4 and tokens[0].upper() == 'SELECT' and tokens[1] == '*' and tokens[2].upper() == 'FROM':\n",
    "        table_name = tokens[3]\n",
    "        if table_name == 'phone_book':\n",
    "            limit = int(tokens[4]) if len(tokens) > 4 else 10\n",
    "            result = phone_book.select_all(limit)\n",
    "\n",
    "            # Create a PrettyTable instance\n",
    "            table = PrettyTable()\n",
    "            \n",
    "            # Add columns based on the keys of the first record\n",
    "            if result:\n",
    "                table.field_names = result[0].keys()\n",
    "\n",
    "                # Add rows to the table\n",
    "                for record in result:\n",
    "                    table.add_row(record.values())\n",
    "\n",
    "                # Print the table\n",
    "                print(table)\n",
    "            else:\n",
    "                print(\"No records found.\")\n",
    "        else:\n",
    "            print(f\"Unknown table: {table_name}\")\n",
    "    else:\n",
    "        print(\"Invalid SELECT statement.\")\n"
   ]
  },
  {
   "cell_type": "markdown",
   "id": "256fa0d2",
   "metadata": {},
   "source": [
    "**2.2 Parser for SELECT WHERE statement**"
   ]
  },
  {
   "cell_type": "code",
   "execution_count": 227,
   "id": "a3745d27",
   "metadata": {},
   "outputs": [],
   "source": [
    "def parse_sql_2(statement):\n",
    "    tokens = statement.split()\n",
    "    if len(tokens) >= 4 and tokens[0].upper() == 'SELECT' and tokens[1] == '*' and tokens[2].upper() == 'FROM':\n",
    "        table_name = tokens[3]\n",
    "        if table_name == 'phone_book':\n",
    "            if 'WHERE' in tokens and len(tokens) >= 6:\n",
    "                parse_where_clause(tokens)\n",
    "            else:\n",
    "                limit = int(tokens[-1]) if len(tokens) > 4 else 10\n",
    "                result = phone_book.select_all(limit)\n",
    "\n",
    "                # Create a PrettyTable instance\n",
    "                table = PrettyTable()\n",
    "\n",
    "                # Add columns based on the keys of the first record\n",
    "                if result:\n",
    "                    table.field_names = result[0].keys()\n",
    "\n",
    "                    # Add rows to the table\n",
    "                    for record in result:\n",
    "                        table.add_row(record.values())\n",
    "\n",
    "                    # Print the table\n",
    "                    print(table)\n",
    "                else:\n",
    "                    print(\"No records found.\")\n",
    "        else:\n",
    "            print(f\"Unknown table: {table_name}\")\n",
    "    else:\n",
    "        print(\"Invalid SELECT statement.\")\n",
    "\n",
    "def parse_where_clause(tokens):\n",
    "    where_index = tokens.index('WHERE')\n",
    "    condition = ' '.join(tokens[where_index + 1:])\n",
    "\n",
    "    \n",
    "    condition_parts = condition.split('=')\n",
    "    if len(condition_parts) == 2:\n",
    "        column_name = condition_parts[0].strip()\n",
    "        value = condition_parts[1].strip().strip(\"';\")\n",
    "\n",
    "        result = phone_book.select_all()\n",
    "\n",
    "        # Filter records based on the condition\n",
    "        filtered_records = [record for record in result if record.get(column_name) == value]\n",
    "\n",
    "        # Create a PrettyTable instance\n",
    "        table = PrettyTable()\n",
    "\n",
    "        # Add columns based on the keys of the first record\n",
    "        if filtered_records:\n",
    "            table.field_names = filtered_records[0].keys()\n",
    "\n",
    "            # Add rows to the table\n",
    "            for record in filtered_records:\n",
    "                table.add_row(record.values())\n",
    "\n",
    "            # Print the table\n",
    "            print(table)\n",
    "        else:\n",
    "            print(f\"No records found for {column_name}='{value}'.\")\n",
    "    else:\n",
    "        print(\"Invalid WHERE condition.\")"
   ]
  },
  {
   "cell_type": "markdown",
   "id": "030b6c45",
   "metadata": {},
   "source": [
    "**2.3 Parser for INSERT INTO statement**"
   ]
  },
  {
   "cell_type": "code",
   "execution_count": 325,
   "id": "37d5004b",
   "metadata": {},
   "outputs": [],
   "source": [
    "def parse_sql_3(statement, phone_book):\n",
    "    tokens = statement.split()\n",
    "    if len(tokens) >= 6 and tokens[0].upper() == 'INSERT' and tokens[1].upper() == 'INTO':\n",
    "        table_name = tokens[2]\n",
    "        if table_name.lower() == 'phone_book' and tokens[3].upper() == 'VALUES':\n",
    "            # Extract values from the statement\n",
    "            values_str = ' '.join(tokens[4:])\n",
    "\n",
    "            # Remove leading '(' and trailing ');'\n",
    "            values_str = values_str.lstrip(\"('\").rstrip(\"');\")\n",
    "\n",
    "            # Split values and remove single quotes\n",
    "            values = [value.strip(\"'\") for value in values_str.split(',')]\n",
    "\n",
    "            # Assuming your PhoneBook class has a method add_record\n",
    "            added_record = phone_book.add_record(*values)\n",
    "\n",
    "            if added_record:\n",
    "                print(f\"Record added successfully: {added_record}\")\n",
    "            else:\n",
    "                print(\"Failed to add record. Check your values.\")\n",
    "        else:\n",
    "            print(f\"Unknown table or invalid syntax: {statement}\")\n",
    "    else:\n",
    "        print(\"Invalid INSERT INTO statement.\")\n"
   ]
  },
  {
   "cell_type": "markdown",
   "id": "7c815e6a",
   "metadata": {},
   "source": [
    "**2.4 Parser for DELETE statement**"
   ]
  },
  {
   "cell_type": "code",
   "execution_count": 267,
   "id": "c2d63533",
   "metadata": {},
   "outputs": [],
   "source": [
    "def parse_sql_4(statement):\n",
    "    tokens = statement.split()\n",
    "    if len(tokens) >= 6 and tokens[0].upper() == 'DELETE' and tokens[1].upper() == 'FROM':\n",
    "        table_name = tokens[2]\n",
    "        if table_name == 'phone_book' and tokens[3].upper() == 'WHERE':\n",
    "            # Extract conditions after WHERE\n",
    "            conditions = ' '.join(tokens[4:])\n",
    "\n",
    "            # Assuming the condition is in the form \"column='value';\"\n",
    "            if conditions.endswith(';'):\n",
    "                conditions = conditions[:-1]  # Remove the trailing semicolon\n",
    "\n",
    "            condition_parts = conditions.split('=')\n",
    "            if len(condition_parts) == 2:\n",
    "                column_name = condition_parts[0].strip()\n",
    "                value = condition_parts[1].strip()\n",
    "\n",
    "                # Check if the value is enclosed in single quotes and remove them\n",
    "                if value.startswith(\"'\") and value.endswith(\"'\"):\n",
    "                    value = value[1:-1]\n",
    "\n",
    "                # Perform the delete operation\n",
    "                deleted_records = phone_book.remove_records(column_name, value)\n",
    "\n",
    "                if deleted_records:\n",
    "                    print(f\"{len(deleted_records)} record(s) deleted successfully.\")\n",
    "                else:\n",
    "                    print(f\"No records found for {column_name}='{value}'.\")\n",
    "            else:\n",
    "                print(\"Invalid WHERE condition.\")\n",
    "        else:\n",
    "            print(f\"Unknown table or invalid syntax: {statement}\")\n",
    "    else:\n",
    "        print(\"Invalid DELETE statement.\")\n"
   ]
  },
  {
   "cell_type": "markdown",
   "id": "773808fd",
   "metadata": {},
   "source": [
    "**Reading records from the csv file using PhoneBook**"
   ]
  },
  {
   "cell_type": "code",
   "execution_count": 326,
   "id": "ec21e303",
   "metadata": {},
   "outputs": [],
   "source": [
    "csv_records = read_records_from_csv('phone_book.csv')\n",
    "phone_book = PhoneBook(csv_records)"
   ]
  },
  {
   "cell_type": "code",
   "execution_count": 275,
   "id": "bd1ba125",
   "metadata": {},
   "outputs": [
    {
     "name": "stdout",
     "output_type": "stream",
     "text": [
      "+---------------+-----------------------------+----------------------+----------------------+\n",
      "|      Name     |            email            |       Phone 1        |       Phone 2        |\n",
      "+---------------+-----------------------------+----------------------+----------------------+\n",
      "| Lance Coleman |   shannonboyer@example.net  | +1-925-346-1960x8128 |   001-547-980-6641   |\n",
      "|  Donna Black  |     afoster@example.org     |     539-394-1393     |  499-502-0514x97191  |\n",
      "|  Jose Sanchez |     angela99@example.org    |    (443)422-3343     |  718-417-5722x07997  |\n",
      "|   Diane Khan  |   michelleruiz@example.net  | (787)219-0831x81982  |    (213)257-5418     |\n",
      "|  Jerry Taylor |      gallen@example.org     |     909.331.8551     |  451.353.2319x0291   |\n",
      "|  Edward Velez |    hpeterson@example.com    |    (864)297-4712     |     547-654-3790     |\n",
      "| David Winters | mcdonaldshannon@example.org | +1-263-949-8527x223  | +1-774-646-1648x853  |\n",
      "| Larry Navarro |     james97@example.org     |    (264)623-5892     | +1-850-273-9979x4507 |\n",
      "|  Laurie Perez |     amanda91@example.net    |     525-849-3317     |     845.293.7486     |\n",
      "| Ashley Acosta |    phillip19@example.net    |  319-886-6677x7838   |   202-904-4598x806   |\n",
      "+---------------+-----------------------------+----------------------+----------------------+\n"
     ]
    }
   ],
   "source": [
    "parse_sql('SELECT * FROM phone_book')"
   ]
  },
  {
   "cell_type": "code",
   "execution_count": 272,
   "id": "d742cfa6",
   "metadata": {},
   "outputs": [
    {
     "name": "stdout",
     "output_type": "stream",
     "text": [
      "+---------------+--------------------------+----------------------+------------------+\n",
      "|      Name     |          email           |       Phone 1        |     Phone 2      |\n",
      "+---------------+--------------------------+----------------------+------------------+\n",
      "| Lance Coleman | shannonboyer@example.net | +1-925-346-1960x8128 | 001-547-980-6641 |\n",
      "+---------------+--------------------------+----------------------+------------------+\n"
     ]
    }
   ],
   "source": [
    "parse_sql_2(\"SELECT * FROM phone_book WHERE Name='Lance Coleman';\")"
   ]
  },
  {
   "cell_type": "code",
   "execution_count": 323,
   "id": "a2bc1fa9",
   "metadata": {},
   "outputs": [],
   "source": [
    "phone_book_instance = PhoneBook(records=csv_records)"
   ]
  },
  {
   "cell_type": "code",
   "execution_count": 327,
   "id": "685d708c",
   "metadata": {},
   "outputs": [
    {
     "name": "stdout",
     "output_type": "stream",
     "text": [
      "Unknown table or invalid syntax: INSERT INTO phone_book VALUES('John Doe', 'john@example.com', '1234567890', '9876543210');\n"
     ]
    }
   ],
   "source": [
    "parse_sql_3(\"INSERT INTO phone_book VALUES('John Doe', 'john@example.com', '1234567890', '9876543210');\", phone_book_instance)"
   ]
  },
  {
   "cell_type": "code",
   "execution_count": 328,
   "id": "83d5a336",
   "metadata": {},
   "outputs": [
    {
     "name": "stdout",
     "output_type": "stream",
     "text": [
      "1 record(s) deleted successfully.\n"
     ]
    }
   ],
   "source": [
    "parse_sql_4(\"DELETE FROM phone_book WHERE Name='Jose Sanchez';\") #Any entry that you can see in the table above"
   ]
  },
  {
   "cell_type": "code",
   "execution_count": 332,
   "id": "73ab6f06",
   "metadata": {},
   "outputs": [
    {
     "name": "stdout",
     "output_type": "stream",
     "text": [
      "+---------------+-----------------------------+----------------------+------------------------+\n",
      "|      Name     |            email            |       Phone 1        |        Phone 2         |\n",
      "+---------------+-----------------------------+----------------------+------------------------+\n",
      "|  Daniel Ford  |     bsparks@example.org     |     283.457.0586     | 001-601-678-1968x30406 |\n",
      "| Lance Coleman |   shannonboyer@example.net  | +1-925-346-1960x8128 |    001-547-980-6641    |\n",
      "|  Joseph Davis |    brittany89@example.net   |     476-322-7710     | +1-212-735-6000x37709  |\n",
      "|  Donna Black  |     afoster@example.org     |     539-394-1393     |   499-502-0514x97191   |\n",
      "|   Diane Khan  |   michelleruiz@example.net  | (787)219-0831x81982  |     (213)257-5418      |\n",
      "|  Jerry Taylor |      gallen@example.org     |     909.331.8551     |   451.353.2319x0291    |\n",
      "|  Edward Velez |    hpeterson@example.com    |    (864)297-4712     |      547-654-3790      |\n",
      "| David Winters | mcdonaldshannon@example.org | +1-263-949-8527x223  |  +1-774-646-1648x853   |\n",
      "| Larry Navarro |     james97@example.org     |    (264)623-5892     |  +1-850-273-9979x4507  |\n",
      "|  Laurie Perez |     amanda91@example.net    |     525-849-3317     |      845.293.7486      |\n",
      "+---------------+-----------------------------+----------------------+------------------------+\n"
     ]
    }
   ],
   "source": [
    "parse_sql('SELECT * FROM phone_book') #Check if the entry no longer exists"
   ]
  }
 ],
 "metadata": {
  "kernelspec": {
   "display_name": "Python 3 (ipykernel)",
   "language": "python",
   "name": "python3"
  },
  "language_info": {
   "codemirror_mode": {
    "name": "ipython",
    "version": 3
   },
   "file_extension": ".py",
   "mimetype": "text/x-python",
   "name": "python",
   "nbconvert_exporter": "python",
   "pygments_lexer": "ipython3",
   "version": "3.10.6"
  }
 },
 "nbformat": 4,
 "nbformat_minor": 5
}
